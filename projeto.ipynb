{
 "cells": [
  {
   "cell_type": "markdown",
   "metadata": {},
   "source": [
    "- **O que vou responder com esse projeto?**  \n",
    "\n",
    "- Qual conteúdo **mais engaja** nesse Instagram?  \n",
    "\n",
    "- Base de foi pega **desde que o usuário começou a postar (11/09/2021) até o dia 27/03/2022.**  \n",
    "\n",
    "- A base foi pega na Internet e só foi usada para fins educativos.  \n",
    "\n",
    "- Alguns direcionamentos que me foram dados:  \n",
    "    ◾Posso ignorar a coluna de Visualizações, vamos apenas entender as curtidas e comentários.  \n",
    "    ◾Tags vazias realmente não possuem tag, não seram tratadas.  \n",
    "\n",
    "\n",
    "**RESULTADO DO PROJETO NO FIM DO ARQUIVO.**\n"
   ]
  },
  {
   "cell_type": "code",
   "execution_count": 28,
   "metadata": {},
   "outputs": [],
   "source": [
    "# Importando o pandas e definindo o formato para 2 casas decimais\n",
    "import pandas as pd\n",
    "pd.options.display.float_format = '{:,.2f}'.format"
   ]
  },
  {
   "cell_type": "code",
   "execution_count": 29,
   "metadata": {},
   "outputs": [],
   "source": [
    "# Importando a base e removendo uma coluna indesejada e removendo espaços na coluna \"Tipo\"\n",
    "base = pd.read_excel(r'engajamento do instagram.xlsx', engine='openpyxl')\n",
    "base = base.drop('Unnamed: 0', axis=1)\n",
    "base['Tipo'] = base['Tipo'].str.strip()"
   ]
  },
  {
   "cell_type": "code",
   "execution_count": null,
   "metadata": {},
   "outputs": [],
   "source": [
    "# Removendo a coluna 'Visualizacoes' e analisando as 5 primeiras linhas\n",
    "base = base.drop('Visualizacoes', axis=1)\n",
    "base.head()"
   ]
  },
  {
   "cell_type": "code",
   "execution_count": 14,
   "metadata": {},
   "outputs": [],
   "source": [
    "# Transformando a coluna Tags em uma lista e visualizando a base\n",
    "base.Tags = base.Tags.str.split('/')"
   ]
  },
  {
   "cell_type": "code",
   "execution_count": 15,
   "metadata": {},
   "outputs": [],
   "source": [
    "# Separando a coluna \"Tags\" em 1 linha para cada elemento da lista\n",
    "base = base.explode('Tags')"
   ]
  },
  {
   "cell_type": "code",
   "execution_count": null,
   "metadata": {},
   "outputs": [],
   "source": [
    "# Organizando os valores em ROL e vendo a média de curtidas por tag\n",
    "base.groupby('Tags')[['Curtidas', 'Comentários']].mean().sort_values(by='Curtidas', ascending=False)"
   ]
  },
  {
   "cell_type": "code",
   "execution_count": 17,
   "metadata": {},
   "outputs": [],
   "source": [
    "# Tratando os valores nulos na coluna \"Carrossel\"\n",
    "base.loc[base.Carrossel.isnull(), 'Carrossel'] = 'N'"
   ]
  },
  {
   "cell_type": "code",
   "execution_count": null,
   "metadata": {},
   "outputs": [],
   "source": [
    "# Vendo a média de curtida de toda a base\n",
    "base.groupby(['Tags', 'Pessoas', 'Campanhas'])[['Curtidas', 'Comentários']].mean().sort_values(by='Curtidas', ascending=False)"
   ]
  },
  {
   "cell_type": "code",
   "execution_count": null,
   "metadata": {},
   "outputs": [],
   "source": [
    "# Visualizando com gráficos de dispersão as curtidas em datas diferentes\n",
    "ax = base.plot(kind='scatter', x='Data', y='Curtidas', color='blue', label='Curtidas', figsize=(14, 8));\n",
    "base.plot(kind='scatter', x='Data', y='Comentários', color='red', label='Comentários', figsize=(14, 8), ax=ax);"
   ]
  },
  {
   "cell_type": "code",
   "execution_count": null,
   "metadata": {},
   "outputs": [],
   "source": [
    "# Apenas as curtidas\n",
    "base.plot(kind='scatter', x='Data', y='Curtidas', figsize=(14, 8));"
   ]
  },
  {
   "cell_type": "code",
   "execution_count": null,
   "metadata": {},
   "outputs": [],
   "source": [
    "# Apenas os comentários\n",
    "base.plot(kind='scatter', x='Data', y='Comentários', color='red', label='Comentários', figsize=(14, 8));"
   ]
  },
  {
   "cell_type": "markdown",
   "metadata": {},
   "source": [
    "**Conclusão:**  \n",
    "\n",
    "- **Ter pessoas nas publicações é fundamental para um bom engajamento na publicação.**  \n",
    "   ◾Em todas as tags, quando havia pessoas nas publicações, o resultado foi melhor.  \n",
    "- **Criar campanhas ajuda muito na divulgação da marca.**  \n",
    "- **Promoções tiveram um desempenho absurdamente maior que outras tags.**  \n",
    "   ◾Porém é uma tag que pode ter custo para a loja, o que deve ser analisado.  \n",
    "- **Usar conteúdos que estão em trend também ajudam na divulgação da marca, mesmo a trend sendo de outros nichos.**  \n",
    "- **A melhor maneira de mostrar produtos é através de outras pessoas utilizando-os, e se possível em campanhas e datas especiais.**  \n",
    "- **Para novos produtos a inclusão de pessoas é mais crítica ainda, sendo quase o dobro quando há um rosto junto ao produto.**"
   ]
  }
 ],
 "metadata": {
  "kernelspec": {
   "display_name": "Python 3",
   "language": "python",
   "name": "python3"
  },
  "language_info": {
   "codemirror_mode": {
    "name": "ipython",
    "version": 3
   },
   "file_extension": ".py",
   "mimetype": "text/x-python",
   "name": "python",
   "nbconvert_exporter": "python",
   "pygments_lexer": "ipython3",
   "version": "3.12.7"
  }
 },
 "nbformat": 4,
 "nbformat_minor": 2
}
